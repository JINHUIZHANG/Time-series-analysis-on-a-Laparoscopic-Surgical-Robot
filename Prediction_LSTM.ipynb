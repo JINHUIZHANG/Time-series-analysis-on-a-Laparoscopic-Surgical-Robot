{
 "cells": [
  {
   "cell_type": "markdown",
   "metadata": {},
   "source": [
    "## Data Preparation"
   ]
  },
  {
   "cell_type": "code",
   "execution_count": 18,
   "metadata": {},
   "outputs": [],
   "source": [
    "# load data\n",
    "import tensorflow\n",
    "from tensorflow import keras\n",
    "import numpy as np\n",
    "from scipy.io import loadmat\n",
    "data = loadmat('data_norm_160.mat')\n",
    "data = data['data_norm']"
   ]
  },
  {
   "cell_type": "code",
   "execution_count": 19,
   "metadata": {},
   "outputs": [
    {
     "name": "stdout",
     "output_type": "stream",
     "text": [
      "[  0 155 127   3 100 148  92  77   1  15 141  87   2 103  12 157  50 128\n",
      "  61 109  86 159 156 111  83  57  80 142  19  23  60 135 115  24  51 125\n",
      " 124 101  31 120  74  41 146  29  99 139  33  96  67 108 105  76  18  38\n",
      " 134  85 133  55  58  59  25 110  97 138  94  66  49  36  16  40  63  79\n",
      "  64  26 152 143  35  78 102  98  42  65  88  30  82 129 114 113  22 158\n",
      "  73 107  45  68 153  93  69  84  28  95 154  44  89 121 130   5  91 123\n",
      "  32  27  39 106  13   7  11  56  62  46 151  90  48 122 118 126 150  17\n",
      " 117  20  53  75 131 119   4 104  81 112  37 116 140   9 136 144  47   8\n",
      "  10  52  71   6 132  21  34  43 137 145  72  70 147  54 149  14]\n",
      "[  0 155 127   3 100 148  92  77   1  15 141  87   2 103  12 157  50 128\n",
      "  61 109  86 159 156 111  83  57  80 142  19  23  60 135 115  24  51 125\n",
      " 124 101  31 120  74  41 146  29  99 139  33  96  67 108 105  76  18  38\n",
      " 134  85 133  55  58  59  25 110  97 138  94  66  49  36  16  40  63  79\n",
      "  64  26 152 143  35  78 102  98  42  65  88  30  82 129 114 113  22 158\n",
      "  73 107  45  68 153  93  69  84  28  95] [154  44  89 121 130   5  91 123  32  27  39 106  13   7  11  56  62  46\n",
      " 151  90  48 122 118 126 150  17 117  20  53  75 131 119   4 104  81 112\n",
      "  37 116 140   9] [136 144  47   8  10  52  71   6 132  21  34  43 137 145  72  70 147  54\n",
      " 149  14]\n"
     ]
    }
   ],
   "source": [
    "# split data randomly (100,40,20)\n",
    "idx = np.random.permutation(160)\n",
    "print(idx)\n",
    "idx_train = idx[0:100]\n",
    "idx_val = idx[100:140]\n",
    "idx_test = idx[140:]\n",
    "print(idx_train,idx_val,idx_test)\n",
    "data_train = data[idx_train,0]\n",
    "data_val = data[idx_val,0]\n",
    "data_test = data[idx_test,0]"
   ]
  },
  {
   "cell_type": "code",
   "execution_count": 20,
   "metadata": {},
   "outputs": [],
   "source": [
    "# multivariate multi-step encoder-decoder lstm example\n",
    "from numpy import array\n",
    "from numpy import hstack\n",
    "from numpy import shape\n",
    "from numpy import concatenate\n",
    "from tensorflow.keras.models import Sequential\n",
    "from tensorflow.keras.layers import LSTM\n",
    "from tensorflow.keras.layers import Dense\n",
    "from tensorflow.keras.layers import RepeatVector\n",
    "from tensorflow.keras.layers import TimeDistributed\n",
    "\n",
    "# split a multivariate sequence into samples\n",
    "def split_sequences(sequences, n_steps_in, n_steps_out):\n",
    "\tX, y = list(), list()\n",
    "\tfor i in range(len(sequences)):\n",
    "\t\t# find the end of this pattern\n",
    "\t\tend_ix = i + n_steps_in\n",
    "\t\tout_end_ix = end_ix + n_steps_out\n",
    "\t\t# check if we are beyond the dataset\n",
    "\t\tif out_end_ix > len(sequences):\n",
    "\t\t\tbreak\n",
    "\t\t# gather input and output parts of the pattern\n",
    "\t\tseq_x, seq_y = sequences[i:end_ix, :], sequences[end_ix:out_end_ix,0:-1] #label prediction removed\n",
    "\t\tX.append(seq_x)\n",
    "\t\ty.append(seq_y)\n",
    "\treturn array(X), array(y)"
   ]
  },
  {
   "cell_type": "code",
   "execution_count": 21,
   "metadata": {},
   "outputs": [],
   "source": [
    "# define input sequence\n",
    "X_train,y_train,X_val,y_val,X_test,y_test = list(),list(),list(),list(),list(),list()\n",
    "# choose a number of time steps\n",
    "n_steps_in, n_steps_out = 30, 3\n",
    "for i in range(data_train.shape[0]):\n",
    "    dataset = data_train[i][:,1:] # drop time series\n",
    "    X, y = split_sequences(dataset, n_steps_in, n_steps_out)\n",
    "    X_train.append(X)\n",
    "    y_train.append(y)\n",
    "for i in range(data_val.shape[0]):\n",
    "    dataset = data_val[i][:,1:] # drop time series\n",
    "    X, y = split_sequences(dataset, n_steps_in, n_steps_out)\n",
    "    X_val.append(X)\n",
    "    y_val.append(y)\n",
    "for i in range(data_test.shape[0]):\n",
    "    dataset = data_test[i][:,1:] # drop time series\n",
    "    X, y = split_sequences(dataset, n_steps_in, n_steps_out)\n",
    "    X_test.append(X)\n",
    "    y_test.append(y)"
   ]
  },
  {
   "cell_type": "code",
   "execution_count": 22,
   "metadata": {},
   "outputs": [],
   "source": [
    "# push all lists into one 3D array\n",
    "X_train_all,y_train_all,X_val_all,y_val_all,X_test_all,y_test_all = X_train[0],y_train[0],X_val[0],y_val[0],X_test[0],y_test[0]\n",
    "for i in range(1,shape(X_train)[0]):\n",
    "    X_train_all = concatenate((X_train_all,X_train[i]))\n",
    "    y_train_all = concatenate((y_train_all,y_train[i]))\n",
    "for i in range(1,shape(X_val)[0]):\n",
    "    X_val_all = concatenate((X_val_all,X_val[i]))\n",
    "    y_val_all = concatenate((y_val_all,y_val[i]))\n",
    "for i in range(1,shape(X_test)[0]):\n",
    "    X_test_all = concatenate((X_test_all,X_test[i]))\n",
    "    y_test_all = concatenate((y_test_all,y_test[i]))"
   ]
  },
  {
   "cell_type": "code",
   "execution_count": 23,
   "metadata": {},
   "outputs": [],
   "source": [
    "# y_train_all.reshape(y_train_all.shape[0],y_train_all.shape[1],1)\n",
    "# y_val_all.reshape(y_val_all.shape[0],y_val_all.shape[1],1)"
   ]
  },
  {
   "cell_type": "code",
   "execution_count": 24,
   "metadata": {},
   "outputs": [],
   "source": [
    "# save X_train,y_train,X_val,y_val,X_test,y_test\n",
    "from numpy import savez_compressed\n",
    "savez_compressed('X_train_all.npz',X_train_all)\n",
    "savez_compressed('y_train_all.npz',y_train_all)\n",
    "savez_compressed('X_val_all.npz',X_val_all)\n",
    "savez_compressed('y_val_all.npz',y_val_all)\n",
    "savez_compressed('X_test_all.npz',X_test_all)\n",
    "savez_compressed('y_test_all.npz',y_test_all)"
   ]
  },
  {
   "cell_type": "code",
   "execution_count": 25,
   "metadata": {},
   "outputs": [],
   "source": [
    "# from numpy import savez\n",
    "# savez('E:/Study/Jupyter/Forecasting/Data/X_train_all2.npz','X_train_all')\n",
    "# savez('E:/Study/Jupyter/Forecasting/Data/y_train_all2.npz','y_train_all')\n",
    "# savez('E:/Study/Jupyter/Forecasting/Data/X_val_all2.npz','X_val_all')\n",
    "# savez('E:/Study/Jupyter/Forecasting/Data/y_val_all2.npz','y_val_all')\n",
    "# savez('E:/Study/Jupyter/Forecasting/Data/X_test_all2.npz','X_test_all')\n",
    "# savez('E:/Study/Jupyter/Forecasting/Data/y_test_all2.npz','y_test_all')"
   ]
  },
  {
   "cell_type": "code",
   "execution_count": 26,
   "metadata": {},
   "outputs": [],
   "source": [
    "# # customize keras.model.fit\n",
    "# class CustomModel(tensorflow.keras.Model):\n",
    "#     def train_step(self, data):\n",
    "#         # Unpack the data. Its structure depends on your model and\n",
    "#         # on what you pass to `fit()`.\n",
    "#         x, y = data\n",
    "\n",
    "#         with tf.GradientTape() as tape:\n",
    "#             y_pred = self(x, training=True)  # Forward pass\n",
    "#             # Compute the loss value\n",
    "#             # (the loss function is configured in `compile()`)\n",
    "#             loss = self.compiled_loss(y, y_pred, regularization_losses=self.losses)\n",
    "\n",
    "#         # Compute gradients\n",
    "#         trainable_vars = self.trainable_variables\n",
    "#         gradients = tape.gradient(loss, trainable_vars)\n",
    "#         # Update weights\n",
    "#         self.optimizer.apply_gradients(zip(gradients, trainable_vars))\n",
    "#         # Update metrics (includes the metric that tracks the loss)\n",
    "#         self.compiled_metrics.update_state(y, y_pred)\n",
    "#         # Return a dict mapping metric names to current value\n",
    "#         return {m.name: m.result() for m in self.metrics}"
   ]
  },
  {
   "cell_type": "code",
   "execution_count": 27,
   "metadata": {},
   "outputs": [
    {
     "name": "stdout",
     "output_type": "stream",
     "text": [
      "WARNING:tensorflow:Layer lstm_2 will not use cuDNN kernel since it doesn't meet the cuDNN kernel criteria. It will use generic GPU kernel as fallback when running on GPU\n",
      "WARNING:tensorflow:Layer lstm_3 will not use cuDNN kernel since it doesn't meet the cuDNN kernel criteria. It will use generic GPU kernel as fallback when running on GPU\n",
      "Epoch 1/10\n",
      "744/744 - 57s - loss: 0.0133 - mae: 0.0754 - val_loss: 0.0061 - val_mae: 0.0581\n",
      "Epoch 2/10\n",
      "744/744 - 55s - loss: 0.0041 - mae: 0.0451 - val_loss: 0.0052 - val_mae: 0.0512\n",
      "Epoch 3/10\n",
      "744/744 - 56s - loss: 0.0030 - mae: 0.0380 - val_loss: 0.0042 - val_mae: 0.0439\n",
      "Epoch 4/10\n",
      "744/744 - 55s - loss: 0.0025 - mae: 0.0344 - val_loss: 0.0028 - val_mae: 0.0377\n",
      "Epoch 5/10\n",
      "744/744 - 55s - loss: 0.0021 - mae: 0.0315 - val_loss: 0.0023 - val_mae: 0.0331\n",
      "Epoch 6/10\n",
      "744/744 - 55s - loss: 0.0019 - mae: 0.0295 - val_loss: 0.0021 - val_mae: 0.0323\n",
      "Epoch 7/10\n",
      "744/744 - 55s - loss: 0.0016 - mae: 0.0275 - val_loss: 0.0020 - val_mae: 0.0316\n",
      "Epoch 8/10\n",
      "744/744 - 54s - loss: 0.0015 - mae: 0.0261 - val_loss: 0.0014 - val_mae: 0.0246\n",
      "Epoch 9/10\n",
      "744/744 - 53s - loss: 0.0014 - mae: 0.0249 - val_loss: 0.0015 - val_mae: 0.0277\n",
      "Epoch 10/10\n",
      "744/744 - 54s - loss: 0.0013 - mae: 0.0240 - val_loss: 0.0015 - val_mae: 0.0289\n"
     ]
    },
    {
     "data": {
      "text/plain": [
       "<tensorflow.python.keras.callbacks.History at 0x1ea99d70388>"
      ]
     },
     "execution_count": 27,
     "metadata": {},
     "output_type": "execute_result"
    }
   ],
   "source": [
    "# the dataset knows the number of features, e.g. 2\n",
    "n_features = 11\n",
    "n_epochs = 100\n",
    "# define model\n",
    "model = Sequential()\n",
    "model.add(LSTM(300, activation='relu', input_shape=(n_steps_in, n_features)))\n",
    "model.add(RepeatVector(n_steps_out))\n",
    "model.add(LSTM(300, activation='relu', return_sequences=True))\n",
    "model.add(TimeDistributed(Dense(10)))\n",
    "model.compile(optimizer='adam', loss='mse', metrics=['mae'])\n",
    "# fit and save model\n",
    "model.fit(X_train_all, y_train_all, epochs=n_epochs,validation_data=(X_val_all, y_val_all),verbose=2)"
   ]
  },
  {
   "cell_type": "code",
   "execution_count": 28,
   "metadata": {},
   "outputs": [
    {
     "data": {
      "image/png": "[encoded data removed]",
      "text/plain": [
       "<Figure size 432x288 with 1 Axes>"
      ]
     },
     "metadata": {
      "needs_background": "light"
     },
     "output_type": "display_data"
    }
   ],
   "source": [
    "train_loss = model.history.history['loss']\n",
    "val_mae = model.history.history['val_mae']\n",
    "savez_compressed('train_loss.npz',train_loss)\n",
    "savez_compressed('val_mae.npz',val_mae)\n",
    "import matplotlib.pyplot as plt\n",
    "fig = plt.figure()\n",
    "plt.plot(range(n_epochs),train_loss,label=\"Train_LOSS\")\n",
    "plt.plot(range(n_epochs),val_mae,label=\"Val_MAE\")\n",
    "plt.legend()\n",
    "plt.title(\"Train-validation Loss\")\n",
    "plt.xlabel(\"Epochs\")\n",
    "plt.ylabel(\"Loss\")\n",
    "plt.show()"
   ]
  },
  {
   "cell_type": "code",
   "execution_count": 29,
   "metadata": {},
   "outputs": [
    {
     "data": {
      "text/plain": [
       "<Figure size 432x288 with 0 Axes>"
      ]
     },
     "metadata": {},
     "output_type": "display_data"
    }
   ],
   "source": [
    "plt.savefig(\"train-val_loss.png\")"
   ]
  },
  {
   "cell_type": "code",
   "execution_count": 30,
   "metadata": {},
   "outputs": [],
   "source": [
    "model_json = model.to_json()\n",
    "with open(\"model.json\",\"w\") as json_file:\n",
    "    json_file.write(model_json)"
   ]
  },
  {
   "cell_type": "code",
   "execution_count": 31,
   "metadata": {},
   "outputs": [],
   "source": [
    "model.save('LSTM_All.h5')"
   ]
  },
  {
   "cell_type": "code",
   "execution_count": 32,
   "metadata": {},
   "outputs": [
    {
     "name": "stdout",
     "output_type": "stream",
     "text": [
      "(4567, 30, 11)\n",
      "WARNING:tensorflow:Layer lstm_2 will not use cuDNN kernel since it doesn't meet the cuDNN kernel criteria. It will use generic GPU kernel as fallback when running on GPU\n",
      "WARNING:tensorflow:Layer lstm_3 will not use cuDNN kernel since it doesn't meet the cuDNN kernel criteria. It will use generic GPU kernel as fallback when running on GPU\n",
      "(4567, 3, 10)\n",
      "(9095, 30, 11)\n",
      "WARNING:tensorflow:Layer lstm_2 will not use cuDNN kernel since it doesn't meet the cuDNN kernel criteria. It will use generic GPU kernel as fallback when running on GPU\n",
      "WARNING:tensorflow:Layer lstm_3 will not use cuDNN kernel since it doesn't meet the cuDNN kernel criteria. It will use generic GPU kernel as fallback when running on GPU\n",
      "(9095, 3, 10)\n",
      "(23778, 30, 11)\n",
      "WARNING:tensorflow:Layer lstm_2 will not use cuDNN kernel since it doesn't meet the cuDNN kernel criteria. It will use generic GPU kernel as fallback when running on GPU\n",
      "WARNING:tensorflow:Layer lstm_3 will not use cuDNN kernel since it doesn't meet the cuDNN kernel criteria. It will use generic GPU kernel as fallback when running on GPU\n",
      "(23778, 3, 10)\n"
     ]
    }
   ],
   "source": [
    "# demonstrate prediction--test\n",
    "x_input = X_test_all\n",
    "print(x_input.shape)\n",
    "reconstructed_model = keras.models.load_model('LSTM_All.h5')\n",
    "yhat_test = reconstructed_model.predict(x_input, verbose=0)\n",
    "savez_compressed('y_test_hat.npz',yhat_test)\n",
    "print(yhat_test.shape)\n",
    "\n",
    "# demonstrate prediction--val\n",
    "x_input = X_val_all\n",
    "print(x_input.shape)\n",
    "reconstructed_model = keras.models.load_model('LSTM_All.h5')\n",
    "yhat_val = reconstructed_model.predict(x_input, verbose=0)\n",
    "savez_compressed('y_val_hat.npz',yhat_val)\n",
    "print(yhat_val.shape)\n",
    "\n",
    "# demonstrate prediction--train\n",
    "x_input = X_train_all\n",
    "print(x_input.shape)\n",
    "reconstructed_model = keras.models.load_model('LSTM_All.h5')\n",
    "yhat_train = reconstructed_model.predict(x_input, verbose=0)\n",
    "savez_compressed('y_train_hat.npz',yhat_train)\n",
    "print(yhat_train.shape)"
   ]
  }
 ],
 "metadata": {
  "kernelspec": {
   "display_name": "Python 3",
   "language": "python",
   "name": "python3"
  },
  "language_info": {
   "codemirror_mode": {
    "name": "ipython",
    "version": 3
   },
   "file_extension": ".py",
   "mimetype": "text/x-python",
   "name": "python",
   "nbconvert_exporter": "python",
   "pygments_lexer": "ipython3",
   "version": "3.7.6"
  }
 },
 "nbformat": 4,
 "nbformat_minor": 4
}
