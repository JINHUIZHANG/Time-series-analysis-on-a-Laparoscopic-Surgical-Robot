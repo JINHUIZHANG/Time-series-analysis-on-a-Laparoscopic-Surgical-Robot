{
  "nbformat": 4,
  "nbformat_minor": 0,
  "metadata": {
    "kernelspec": {
      "display_name": "Python 3",
      "language": "python",
      "name": "python3"
    },
    "language_info": {
      "codemirror_mode": {
        "name": "ipython",
        "version": 3
      },
      "file_extension": ".py",
      "mimetype": "text/x-python",
      "name": "python",
      "nbconvert_exporter": "python",
      "pygments_lexer": "ipython3",
      "version": "3.7.7"
    },
    "colab": {
      "name": "main_06March2021.ipynb",
      "provenance": []
    },
    "accelerator": "GPU"
  },
  "cells": [
    {
      "cell_type": "markdown",
      "metadata": {
        "id": "uRQU-2L6aL99"
      },
      "source": [
        "## Data Preparation"
      ]
    },
    {
      "cell_type": "code",
      "metadata": {
        "colab": {
          "base_uri": "https://localhost:8080/"
        },
        "id": "aXM0BVsbc3ki",
        "outputId": "2ef2cbb0-8bc1-42ef-f46c-d33b296e8393"
      },
      "source": [
        "from google.colab import drive\n",
        "drive.mount('/content/drive')"
      ],
      "execution_count": null,
      "outputs": [
        {
          "output_type": "stream",
          "text": [
            "Drive already mounted at /content/drive; to attempt to forcibly remount, call drive.mount(\"/content/drive\", force_remount=True).\n"
          ],
          "name": "stdout"
        }
      ]
    },
    {
      "cell_type": "code",
      "metadata": {
        "id": "9nk3AAWJaL-D"
      },
      "source": [
        "# load data\n",
        "import tensorflow\n",
        "from tensorflow import keras\n",
        "import numpy as np\n",
        "from scipy.io import loadmat\n",
        "data = loadmat('/content/drive/MyDrive/6March2021_Prediction/data_norm_160.mat')\n",
        "data = data['data_norm']\n",
        "import os\n",
        "newpath = r'/content/drive/MyDrive/6March2021_Prediction/1step_prediction/' \n",
        "if not os.path.exists(newpath):\n",
        "    os.makedirs(newpath)\n",
        "os.chdir(newpath)"
      ],
      "execution_count": null,
      "outputs": []
    },
    {
      "cell_type": "code",
      "metadata": {
        "colab": {
          "base_uri": "https://localhost:8080/"
        },
        "id": "zs0OwmLzaL-E",
        "outputId": "dd302c0a-78ef-48de-f01f-6bdf5772d731"
      },
      "source": [
        "# split data randomly (100,40,20)\n",
        "np.random.seed(0) \n",
        "idx = np.random.permutation(160)\n",
        "print(idx)\n",
        "idx_train = idx[0:100]\n",
        "idx_val = idx[100:140]\n",
        "idx_test = idx[140:]\n",
        "print(idx_train,idx_val,idx_test)\n",
        "data_train = data[idx_train,0]\n",
        "data_val = data[idx_val,0]\n",
        "data_test = data[idx_test,0]"
      ],
      "execution_count": null,
      "outputs": [
        {
          "output_type": "stream",
          "text": [
            "[110 112 143   7  44 101 122  66  85  86 133  92  26 146 119  62  51  97\n",
            " 128  90  45  56  59   8  37  33 147  61  98 121 135  24  54  80  19  74\n",
            " 131  16  60 120  40  22  63 151 111 145 136  27 118  95  55 109  18 157\n",
            "  30  94  73 107   2 139  83  43  71  10 141 154  96  89 144 132 124  50\n",
            " 100 142  64 106 108  69  49  48  13 158  23 113  20  15  78  52  76   3\n",
            " 159  93   6  68  75  84 129  12 123  14 125  91 137  46  11 102  35  57\n",
            "  41 156  65   1 130 148  42 105   4 138  17 116 104  38   5  53 153 126\n",
            "   0  34  28 114  31 134 127 149  32  29  99  82  79 115 155  72  77  25\n",
            "  81 150 152  39  58 140  88  70  87  36  21   9 103  67 117  47]\n",
            "[110 112 143   7  44 101 122  66  85  86 133  92  26 146 119  62  51  97\n",
            " 128  90  45  56  59   8  37  33 147  61  98 121 135  24  54  80  19  74\n",
            " 131  16  60 120  40  22  63 151 111 145 136  27 118  95  55 109  18 157\n",
            "  30  94  73 107   2 139  83  43  71  10 141 154  96  89 144 132 124  50\n",
            " 100 142  64 106 108  69  49  48  13 158  23 113  20  15  78  52  76   3\n",
            " 159  93   6  68  75  84 129  12 123  14] [125  91 137  46  11 102  35  57  41 156  65   1 130 148  42 105   4 138\n",
            "  17 116 104  38   5  53 153 126   0  34  28 114  31 134 127 149  32  29\n",
            "  99  82  79 115] [155  72  77  25  81 150 152  39  58 140  88  70  87  36  21   9 103  67\n",
            " 117  47]\n"
          ],
          "name": "stdout"
        }
      ]
    },
    {
      "cell_type": "code",
      "metadata": {
        "id": "QTn_2YtwaL-F"
      },
      "source": [
        "# multivariate multi-step encoder-decoder lstm example\n",
        "from numpy import array\n",
        "from numpy import hstack\n",
        "from numpy import shape\n",
        "from numpy import concatenate\n",
        "from tensorflow.keras.models import Sequential\n",
        "from tensorflow.keras.layers import LSTM\n",
        "from tensorflow.keras.layers import Dense\n",
        "from tensorflow.keras.layers import RepeatVector\n",
        "from tensorflow.keras.layers import TimeDistributed\n",
        "from keras import backend\n",
        "def rmse(y_true, y_pred):\n",
        " return backend.sqrt(backend.mean(backend.square(y_pred - y_true), axis=-1))\n",
        "# split a multivariate sequence into samples\n",
        "def split_sequences(sequences, n_steps_in, n_steps_out):\n",
        "\tX, y = list(), list()\n",
        "\tfor i in range(len(sequences)):\n",
        "\t\t# find the end of this pattern\n",
        "\t\tend_ix = i + n_steps_in\n",
        "\t\tout_end_ix = end_ix + n_steps_out\n",
        "\t\t# check if we are beyond the dataset\n",
        "\t\tif out_end_ix > len(sequences):\n",
        "\t\t\tbreak\n",
        "\t\t# gather input and output parts of the pattern\n",
        "\t\tseq_x, seq_y = sequences[i:end_ix, :], sequences[end_ix:out_end_ix,0:-1] #label prediction removed\n",
        "\t\tX.append(seq_x)\n",
        "\t\ty.append(seq_y)\n",
        "\treturn array(X), array(y)"
      ],
      "execution_count": null,
      "outputs": []
    },
    {
      "cell_type": "code",
      "metadata": {
        "id": "OhJvkZumaL-G"
      },
      "source": [
        "# define input sequence\n",
        "X_train,y_train,X_val,y_val,X_test,y_test = list(),list(),list(),list(),list(),list()\n",
        "# choose a number of time steps\n",
        "n_steps_in, n_steps_out = 30, 1\n",
        "for i in range(data_train.shape[0]):\n",
        "    dataset = data_train[i][:,1:] # drop time series\n",
        "    X, y = split_sequences(dataset, n_steps_in, n_steps_out)\n",
        "    X_train.append(X)\n",
        "    y_train.append(y)\n",
        "for i in range(data_val.shape[0]):\n",
        "    dataset = data_val[i][:,1:] # drop time series\n",
        "    X, y = split_sequences(dataset, n_steps_in, n_steps_out)\n",
        "    X_val.append(X)\n",
        "    y_val.append(y)\n",
        "for i in range(data_test.shape[0]):\n",
        "    dataset = data_test[i][:,1:] # drop time series\n",
        "    X, y = split_sequences(dataset, n_steps_in, n_steps_out)\n",
        "    X_test.append(X)\n",
        "    y_test.append(y)"
      ],
      "execution_count": null,
      "outputs": []
    },
    {
      "cell_type": "code",
      "metadata": {
        "colab": {
          "base_uri": "https://localhost:8080/"
        },
        "id": "GEKGlFj1aL-G",
        "outputId": "9db4318d-52ea-4233-eb77-0ce71917c53d"
      },
      "source": [
        "# push all lists into one 3D array\n",
        "X_train_all,y_train_all,X_val_all,y_val_all,X_test_all,y_test_all = X_train[0],y_train[0],X_val[0],y_val[0],X_test[0],y_test[0]\n",
        "for i in range(1,shape(X_train)[0]):\n",
        "    X_train_all = concatenate((X_train_all,X_train[i]))\n",
        "    y_train_all = concatenate((y_train_all,y_train[i]))\n",
        "for i in range(1,shape(X_val)[0]):\n",
        "    X_val_all = concatenate((X_val_all,X_val[i]))\n",
        "    y_val_all = concatenate((y_val_all,y_val[i]))\n",
        "for i in range(1,shape(X_test)[0]):\n",
        "    X_test_all = concatenate((X_test_all,X_test[i]))\n",
        "    y_test_all = concatenate((y_test_all,y_test[i]))"
      ],
      "execution_count": null,
      "outputs": [
        {
          "output_type": "stream",
          "text": [
            "/usr/local/lib/python3.7/dist-packages/numpy/core/_asarray.py:83: VisibleDeprecationWarning: Creating an ndarray from ragged nested sequences (which is a list-or-tuple of lists-or-tuples-or ndarrays with different lengths or shapes) is deprecated. If you meant to do this, you must specify 'dtype=object' when creating the ndarray\n",
            "  return array(a, dtype, copy=False, order=order)\n"
          ],
          "name": "stderr"
        }
      ]
    },
    {
      "cell_type": "code",
      "metadata": {
        "id": "GIhWq8XFaL-G"
      },
      "source": [
        "# y_train_all.reshape(y_train_all.shape[0],y_train_all.shape[1],1)\n",
        "# y_val_all.reshape(y_val_all.shape[0],y_val_all.shape[1],1)"
      ],
      "execution_count": null,
      "outputs": []
    },
    {
      "cell_type": "code",
      "metadata": {
        "id": "LzMPJcaMaL-H"
      },
      "source": [
        "# save X_train,y_train,X_val,y_val,X_test,y_test\n",
        "from numpy import savez_compressed\n",
        "savez_compressed('X_train_all.npz',X_train_all)\n",
        "savez_compressed('y_train_all.npz',y_train_all)\n",
        "savez_compressed('X_val_all.npz',X_val_all)\n",
        "savez_compressed('y_val_all.npz',y_val_all)\n",
        "savez_compressed('X_test_all.npz',X_test_all)\n",
        "savez_compressed('y_test_all.npz',y_test_all)"
      ],
      "execution_count": null,
      "outputs": []
    },
    {
      "cell_type": "code",
      "metadata": {
        "id": "SqnTxYE6aL-H"
      },
      "source": [
        "# from numpy import savez\n",
        "# savez('E:/Study/Jupyter/Forecasting/Data/X_train_all2.npz','X_train_all')\n",
        "# savez('E:/Study/Jupyter/Forecasting/Data/y_train_all2.npz','y_train_all')\n",
        "# savez('E:/Study/Jupyter/Forecasting/Data/X_val_all2.npz','X_val_all')\n",
        "# savez('E:/Study/Jupyter/Forecasting/Data/y_val_all2.npz','y_val_all')\n",
        "# savez('E:/Study/Jupyter/Forecasting/Data/X_test_all2.npz','X_test_all')\n",
        "# savez('E:/Study/Jupyter/Forecasting/Data/y_test_all2.npz','y_test_all')"
      ],
      "execution_count": null,
      "outputs": []
    },
    {
      "cell_type": "code",
      "metadata": {
        "id": "t5nubQQzaL-H"
      },
      "source": [
        "# # customize keras.model.fit\n",
        "# class CustomModel(tensorflow.keras.Model):\n",
        "#     def train_step(self, data):\n",
        "#         # Unpack the data. Its structure depends on your model and\n",
        "#         # on what you pass to `fit()`.\n",
        "#         x, y = data\n",
        "\n",
        "#         with tf.GradientTape() as tape:\n",
        "#             y_pred = self(x, training=True)  # Forward pass\n",
        "#             # Compute the loss value\n",
        "#             # (the loss function is configured in `compile()`)\n",
        "#             loss = self.compiled_loss(y, y_pred, regularization_losses=self.losses)\n",
        "\n",
        "#         # Compute gradients\n",
        "#         trainable_vars = self.trainable_variables\n",
        "#         gradients = tape.gradient(loss, trainable_vars)\n",
        "#         # Update weights\n",
        "#         self.optimizer.apply_gradients(zip(gradients, trainable_vars))\n",
        "#         # Update metrics (includes the metric that tracks the loss)\n",
        "#         self.compiled_metrics.update_state(y, y_pred)\n",
        "#         # Return a dict mapping metric names to current value\n",
        "#         return {m.name: m.result() for m in self.metrics}"
      ],
      "execution_count": null,
      "outputs": []
    },
    {
      "cell_type": "code",
      "metadata": {
        "colab": {
          "base_uri": "https://localhost:8080/"
        },
        "id": "p_5OoyqYaL-I",
        "outputId": "00447d86-99b1-4542-a5b6-165f99fd1636"
      },
      "source": [
        "# the dataset knows the number of features, e.g. 2\n",
        "n_features = 11\n",
        "n_epochs = 100\n",
        "# define model\n",
        "model = Sequential()\n",
        "model.add(LSTM(300, activation='relu', input_shape=(n_steps_in, n_features)))\n",
        "model.add(RepeatVector(n_steps_out))\n",
        "model.add(LSTM(300, activation='relu', return_sequences=True))\n",
        "model.add(TimeDistributed(Dense(10)))\n",
        "model.compile(optimizer='adam', loss=rmse, metrics=['mae'])\n",
        "# fit and save model\n",
        "model.fit(X_train_all, y_train_all, epochs=n_epochs,validation_data=(X_val_all, y_val_all),verbose=2)"
      ],
      "execution_count": null,
      "outputs": [
        {
          "output_type": "stream",
          "text": [
            "WARNING:tensorflow:Layer lstm_4 will not use cuDNN kernel since it doesn't meet the cuDNN kernel criteria. It will use generic GPU kernel as fallback when running on GPU\n",
            "WARNING:tensorflow:Layer lstm_5 will not use cuDNN kernel since it doesn't meet the cuDNN kernel criteria. It will use generic GPU kernel as fallback when running on GPU\n",
            "Epoch 1/100\n",
            "740/740 - 35s - loss: 0.0796 - mae: 0.0645 - val_loss: 0.0519 - val_mae: 0.0410\n",
            "Epoch 2/100\n",
            "740/740 - 33s - loss: 0.0331 - mae: 0.0257 - val_loss: 0.0335 - val_mae: 0.0259\n",
            "Epoch 3/100\n",
            "740/740 - 32s - loss: 0.0242 - mae: 0.0189 - val_loss: 0.0247 - val_mae: 0.0196\n",
            "Epoch 4/100\n",
            "740/740 - 32s - loss: 0.0192 - mae: 0.0151 - val_loss: 0.0173 - val_mae: 0.0136\n",
            "Epoch 5/100\n",
            "740/740 - 32s - loss: 0.0162 - mae: 0.0128 - val_loss: 0.0161 - val_mae: 0.0128\n",
            "Epoch 6/100\n",
            "740/740 - 32s - loss: 0.0143 - mae: 0.0113 - val_loss: 0.0140 - val_mae: 0.0111\n",
            "Epoch 7/100\n",
            "740/740 - 32s - loss: 0.0126 - mae: 0.0099 - val_loss: 0.0137 - val_mae: 0.0111\n",
            "Epoch 8/100\n",
            "740/740 - 32s - loss: 0.0112 - mae: 0.0090 - val_loss: 0.0100 - val_mae: 0.0078\n",
            "Epoch 9/100\n",
            "740/740 - 32s - loss: 0.0103 - mae: 0.0082 - val_loss: 0.0107 - val_mae: 0.0084\n",
            "Epoch 10/100\n",
            "740/740 - 32s - loss: 0.0094 - mae: 0.0075 - val_loss: 0.0110 - val_mae: 0.0086\n",
            "Epoch 11/100\n",
            "740/740 - 32s - loss: 0.0088 - mae: 0.0070 - val_loss: 0.0093 - val_mae: 0.0074\n",
            "Epoch 12/100\n",
            "740/740 - 32s - loss: 0.0081 - mae: 0.0065 - val_loss: 0.0073 - val_mae: 0.0057\n",
            "Epoch 13/100\n",
            "740/740 - 32s - loss: 0.0076 - mae: 0.0061 - val_loss: 0.0091 - val_mae: 0.0071\n",
            "Epoch 14/100\n",
            "740/740 - 32s - loss: 0.0072 - mae: 0.0058 - val_loss: 0.0095 - val_mae: 0.0079\n",
            "Epoch 15/100\n",
            "740/740 - 32s - loss: 0.0072 - mae: 0.0058 - val_loss: 0.0066 - val_mae: 0.0052\n",
            "Epoch 16/100\n",
            "740/740 - 32s - loss: 0.0068 - mae: 0.0055 - val_loss: 0.0069 - val_mae: 0.0054\n",
            "Epoch 17/100\n",
            "740/740 - 31s - loss: 0.0064 - mae: 0.0052 - val_loss: 0.0070 - val_mae: 0.0057\n",
            "Epoch 18/100\n",
            "740/740 - 31s - loss: 0.0063 - mae: 0.0051 - val_loss: 0.0067 - val_mae: 0.0053\n",
            "Epoch 19/100\n",
            "740/740 - 31s - loss: 0.0061 - mae: 0.0049 - val_loss: 0.0070 - val_mae: 0.0057\n",
            "Epoch 20/100\n",
            "740/740 - 32s - loss: 0.0057 - mae: 0.0046 - val_loss: 0.0071 - val_mae: 0.0061\n",
            "Epoch 21/100\n",
            "740/740 - 31s - loss: 0.0057 - mae: 0.0046 - val_loss: 0.0063 - val_mae: 0.0050\n",
            "Epoch 22/100\n",
            "740/740 - 31s - loss: 0.0055 - mae: 0.0044 - val_loss: 0.0057 - val_mae: 0.0047\n",
            "Epoch 23/100\n",
            "740/740 - 31s - loss: 0.0053 - mae: 0.0043 - val_loss: 0.0061 - val_mae: 0.0050\n",
            "Epoch 24/100\n",
            "740/740 - 32s - loss: 0.0053 - mae: 0.0042 - val_loss: 0.0057 - val_mae: 0.0045\n",
            "Epoch 25/100\n",
            "740/740 - 31s - loss: 0.0051 - mae: 0.0041 - val_loss: 0.0057 - val_mae: 0.0047\n",
            "Epoch 26/100\n",
            "740/740 - 32s - loss: 0.0050 - mae: 0.0040 - val_loss: 0.0056 - val_mae: 0.0044\n",
            "Epoch 27/100\n",
            "740/740 - 32s - loss: 0.0048 - mae: 0.0038 - val_loss: 0.0054 - val_mae: 0.0042\n",
            "Epoch 28/100\n",
            "740/740 - 32s - loss: 0.0050 - mae: 0.0041 - val_loss: 0.0051 - val_mae: 0.0040\n",
            "Epoch 29/100\n",
            "740/740 - 31s - loss: 0.0046 - mae: 0.0037 - val_loss: 0.0062 - val_mae: 0.0046\n",
            "Epoch 30/100\n",
            "740/740 - 31s - loss: 0.0046 - mae: 0.0037 - val_loss: 0.0034 - val_mae: 0.0026\n",
            "Epoch 31/100\n",
            "740/740 - 31s - loss: 0.0047 - mae: 0.0038 - val_loss: 0.0055 - val_mae: 0.0046\n",
            "Epoch 32/100\n",
            "740/740 - 31s - loss: 0.0044 - mae: 0.0036 - val_loss: 0.0057 - val_mae: 0.0050\n",
            "Epoch 33/100\n",
            "740/740 - 31s - loss: 0.0044 - mae: 0.0036 - val_loss: 0.0040 - val_mae: 0.0033\n",
            "Epoch 34/100\n",
            "740/740 - 31s - loss: 0.0043 - mae: 0.0035 - val_loss: 0.0043 - val_mae: 0.0036\n",
            "Epoch 35/100\n",
            "740/740 - 31s - loss: 0.0043 - mae: 0.0035 - val_loss: 0.0048 - val_mae: 0.0039\n",
            "Epoch 36/100\n",
            "740/740 - 31s - loss: 0.0042 - mae: 0.0035 - val_loss: 0.0049 - val_mae: 0.0041\n",
            "Epoch 37/100\n",
            "740/740 - 31s - loss: 0.0043 - mae: 0.0035 - val_loss: 0.0043 - val_mae: 0.0035\n",
            "Epoch 38/100\n",
            "740/740 - 31s - loss: 0.0043 - mae: 0.0035 - val_loss: 0.0051 - val_mae: 0.0042\n",
            "Epoch 39/100\n",
            "740/740 - 31s - loss: 0.0040 - mae: 0.0033 - val_loss: 0.0044 - val_mae: 0.0036\n",
            "Epoch 40/100\n",
            "740/740 - 31s - loss: 0.0040 - mae: 0.0032 - val_loss: 0.0044 - val_mae: 0.0036\n",
            "Epoch 41/100\n",
            "740/740 - 32s - loss: 0.0040 - mae: 0.0032 - val_loss: 0.0045 - val_mae: 0.0035\n",
            "Epoch 42/100\n",
            "740/740 - 32s - loss: 0.0040 - mae: 0.0033 - val_loss: 0.0045 - val_mae: 0.0036\n",
            "Epoch 43/100\n",
            "740/740 - 32s - loss: 0.0040 - mae: 0.0032 - val_loss: 0.0039 - val_mae: 0.0032\n",
            "Epoch 44/100\n",
            "740/740 - 32s - loss: 0.0040 - mae: 0.0033 - val_loss: 0.0045 - val_mae: 0.0036\n",
            "Epoch 45/100\n",
            "740/740 - 31s - loss: 0.0038 - mae: 0.0031 - val_loss: 0.0058 - val_mae: 0.0048\n",
            "Epoch 46/100\n",
            "740/740 - 31s - loss: 0.0039 - mae: 0.0032 - val_loss: 0.0039 - val_mae: 0.0032\n",
            "Epoch 47/100\n",
            "740/740 - 31s - loss: 0.0038 - mae: 0.0031 - val_loss: 0.0042 - val_mae: 0.0033\n",
            "Epoch 48/100\n",
            "740/740 - 31s - loss: 0.0038 - mae: 0.0031 - val_loss: 0.0044 - val_mae: 0.0033\n",
            "Epoch 49/100\n",
            "740/740 - 31s - loss: 0.0036 - mae: 0.0029 - val_loss: 0.0041 - val_mae: 0.0033\n",
            "Epoch 50/100\n",
            "740/740 - 31s - loss: 0.0043 - mae: 0.0035 - val_loss: 0.0066 - val_mae: 0.0057\n",
            "Epoch 51/100\n",
            "740/740 - 31s - loss: 0.0040 - mae: 0.0033 - val_loss: 0.0046 - val_mae: 0.0036\n",
            "Epoch 52/100\n",
            "740/740 - 31s - loss: 0.0039 - mae: 0.0031 - val_loss: 0.0037 - val_mae: 0.0030\n",
            "Epoch 53/100\n",
            "740/740 - 31s - loss: 0.0038 - mae: 0.0031 - val_loss: 0.0042 - val_mae: 0.0034\n",
            "Epoch 54/100\n",
            "740/740 - 31s - loss: 0.0038 - mae: 0.0031 - val_loss: 0.0041 - val_mae: 0.0031\n",
            "Epoch 55/100\n",
            "740/740 - 31s - loss: 0.0036 - mae: 0.0029 - val_loss: 0.0038 - val_mae: 0.0030\n",
            "Epoch 56/100\n",
            "740/740 - 31s - loss: 0.0036 - mae: 0.0029 - val_loss: 0.0030 - val_mae: 0.0024\n",
            "Epoch 57/100\n",
            "740/740 - 31s - loss: 0.0036 - mae: 0.0029 - val_loss: 0.0044 - val_mae: 0.0036\n",
            "Epoch 58/100\n",
            "740/740 - 31s - loss: 0.0036 - mae: 0.0029 - val_loss: 0.0037 - val_mae: 0.0031\n",
            "Epoch 59/100\n",
            "740/740 - 31s - loss: 0.0037 - mae: 0.0030 - val_loss: 0.0056 - val_mae: 0.0044\n",
            "Epoch 60/100\n",
            "740/740 - 31s - loss: 0.0036 - mae: 0.0029 - val_loss: 0.0031 - val_mae: 0.0025\n",
            "Epoch 61/100\n",
            "740/740 - 31s - loss: 0.0036 - mae: 0.0029 - val_loss: 0.0032 - val_mae: 0.0026\n",
            "Epoch 62/100\n",
            "740/740 - 31s - loss: 0.0035 - mae: 0.0029 - val_loss: 0.0045 - val_mae: 0.0034\n",
            "Epoch 63/100\n",
            "740/740 - 31s - loss: 0.0035 - mae: 0.0028 - val_loss: 0.0035 - val_mae: 0.0029\n",
            "Epoch 64/100\n",
            "740/740 - 31s - loss: 0.0034 - mae: 0.0027 - val_loss: 0.0041 - val_mae: 0.0034\n",
            "Epoch 65/100\n",
            "740/740 - 31s - loss: 0.0035 - mae: 0.0028 - val_loss: 0.0041 - val_mae: 0.0033\n",
            "Epoch 66/100\n",
            "740/740 - 31s - loss: 0.0034 - mae: 0.0027 - val_loss: 0.0033 - val_mae: 0.0027\n",
            "Epoch 67/100\n",
            "740/740 - 31s - loss: 0.0035 - mae: 0.0028 - val_loss: 0.0041 - val_mae: 0.0035\n",
            "Epoch 68/100\n",
            "740/740 - 31s - loss: 0.0032 - mae: 0.0026 - val_loss: 0.0036 - val_mae: 0.0029\n",
            "Epoch 69/100\n",
            "740/740 - 31s - loss: 0.0034 - mae: 0.0027 - val_loss: 0.0037 - val_mae: 0.0030\n",
            "Epoch 70/100\n",
            "740/740 - 31s - loss: 0.0032 - mae: 0.0026 - val_loss: 0.0034 - val_mae: 0.0027\n",
            "Epoch 71/100\n",
            "740/740 - 31s - loss: 0.0038 - mae: 0.0031 - val_loss: 0.0037 - val_mae: 0.0029\n",
            "Epoch 72/100\n",
            "740/740 - 31s - loss: 0.0036 - mae: 0.0029 - val_loss: 0.0043 - val_mae: 0.0034\n",
            "Epoch 73/100\n",
            "740/740 - 31s - loss: 0.0034 - mae: 0.0027 - val_loss: 0.0043 - val_mae: 0.0035\n",
            "Epoch 74/100\n",
            "740/740 - 31s - loss: 0.0034 - mae: 0.0028 - val_loss: 0.0045 - val_mae: 0.0038\n",
            "Epoch 75/100\n",
            "740/740 - 31s - loss: 0.0033 - mae: 0.0027 - val_loss: 0.0039 - val_mae: 0.0029\n",
            "Epoch 76/100\n",
            "740/740 - 32s - loss: 0.0032 - mae: 0.0026 - val_loss: 0.0040 - val_mae: 0.0033\n",
            "Epoch 77/100\n",
            "740/740 - 32s - loss: 0.0033 - mae: 0.0026 - val_loss: 0.0035 - val_mae: 0.0029\n",
            "Epoch 78/100\n",
            "740/740 - 32s - loss: 0.0034 - mae: 0.0028 - val_loss: 0.0037 - val_mae: 0.0030\n",
            "Epoch 79/100\n",
            "740/740 - 32s - loss: 0.0033 - mae: 0.0026 - val_loss: 0.0033 - val_mae: 0.0027\n",
            "Epoch 80/100\n",
            "740/740 - 31s - loss: 0.0033 - mae: 0.0027 - val_loss: 0.0039 - val_mae: 0.0033\n",
            "Epoch 81/100\n",
            "740/740 - 31s - loss: 0.0033 - mae: 0.0027 - val_loss: 0.0036 - val_mae: 0.0030\n",
            "Epoch 82/100\n",
            "740/740 - 32s - loss: 0.0032 - mae: 0.0026 - val_loss: 0.0042 - val_mae: 0.0035\n",
            "Epoch 83/100\n",
            "740/740 - 32s - loss: 0.0032 - mae: 0.0026 - val_loss: 0.0037 - val_mae: 0.0031\n",
            "Epoch 84/100\n",
            "740/740 - 31s - loss: 0.0032 - mae: 0.0026 - val_loss: 0.0026 - val_mae: 0.0021\n",
            "Epoch 85/100\n",
            "740/740 - 32s - loss: 0.0030 - mae: 0.0024 - val_loss: 0.0037 - val_mae: 0.0030\n",
            "Epoch 86/100\n",
            "740/740 - 31s - loss: 0.0031 - mae: 0.0025 - val_loss: 0.0029 - val_mae: 0.0024\n",
            "Epoch 87/100\n",
            "740/740 - 31s - loss: 0.0030 - mae: 0.0025 - val_loss: 0.0041 - val_mae: 0.0032\n",
            "Epoch 88/100\n",
            "740/740 - 31s - loss: 0.0031 - mae: 0.0026 - val_loss: 0.0032 - val_mae: 0.0026\n",
            "Epoch 89/100\n",
            "740/740 - 31s - loss: 0.0031 - mae: 0.0025 - val_loss: 0.0034 - val_mae: 0.0027\n",
            "Epoch 90/100\n",
            "740/740 - 31s - loss: 0.0031 - mae: 0.0025 - val_loss: 0.0031 - val_mae: 0.0023\n",
            "Epoch 91/100\n",
            "740/740 - 31s - loss: 0.0031 - mae: 0.0025 - val_loss: 0.0037 - val_mae: 0.0029\n",
            "Epoch 92/100\n",
            "740/740 - 31s - loss: 0.0030 - mae: 0.0024 - val_loss: 0.0030 - val_mae: 0.0024\n",
            "Epoch 93/100\n",
            "740/740 - 31s - loss: 0.0031 - mae: 0.0026 - val_loss: 0.0027 - val_mae: 0.0022\n",
            "Epoch 94/100\n",
            "740/740 - 31s - loss: 0.0030 - mae: 0.0024 - val_loss: 0.0040 - val_mae: 0.0035\n",
            "Epoch 95/100\n",
            "740/740 - 31s - loss: 0.0031 - mae: 0.0025 - val_loss: 0.0031 - val_mae: 0.0025\n",
            "Epoch 96/100\n",
            "740/740 - 32s - loss: 0.0031 - mae: 0.0025 - val_loss: 0.0030 - val_mae: 0.0024\n",
            "Epoch 97/100\n",
            "740/740 - 31s - loss: 0.0043 - mae: 0.0035 - val_loss: 0.0047 - val_mae: 0.0037\n",
            "Epoch 98/100\n",
            "740/740 - 31s - loss: 0.0037 - mae: 0.0030 - val_loss: 0.0054 - val_mae: 0.0040\n",
            "Epoch 99/100\n",
            "740/740 - 31s - loss: 0.0037 - mae: 0.0030 - val_loss: 0.0059 - val_mae: 0.0044\n",
            "Epoch 100/100\n",
            "740/740 - 31s - loss: 0.0034 - mae: 0.0028 - val_loss: 0.0033 - val_mae: 0.0027\n"
          ],
          "name": "stdout"
        },
        {
          "output_type": "execute_result",
          "data": {
            "text/plain": [
              "<tensorflow.python.keras.callbacks.History at 0x7f8ca21a8c90>"
            ]
          },
          "metadata": {
            "tags": []
          },
          "execution_count": 46
        }
      ]
    },
    {
      "cell_type": "code",
      "metadata": {
        "id": "OEipmYG7aL-I",
        "colab": {
          "base_uri": "https://localhost:8080/",
          "height": 295
        },
        "outputId": "1ec2ccaa-d6f8-4e5b-bc3b-3da140240812"
      },
      "source": [
        "train_loss = model.history.history['loss']\n",
        "val_mae = model.history.history['val_mae']\n",
        "savez_compressed('train_loss.npz',train_loss)\n",
        "savez_compressed('val_mae.npz',val_mae)\n",
        "import matplotlib.pyplot as plt\n",
        "fig = plt.figure()\n",
        "plt.plot(range(n_epochs),train_loss,label=\"Train_LOSS\")\n",
        "plt.plot(range(n_epochs),val_mae,label=\"Val_MAE\")\n",
        "plt.legend()\n",
        "plt.title(\"Train-validation Loss\")\n",
        "plt.xlabel(\"Epochs\")\n",
        "plt.ylabel(\"Loss\")\n",
        "plt.show()"
      ],
      "execution_count": null,
      "outputs": [
        {
          "output_type": "display_data",
          "data": {
            "image/png": "[encoded data removed]",
            "text/plain": [
              "<Figure size 432x288 with 1 Axes>"
            ]
          },
          "metadata": {
            "tags": [],
            "needs_background": "light"
          }
        }
      ]
    },
    {
      "cell_type": "code",
      "metadata": {
        "id": "iqwvSy6-aL-J",
        "colab": {
          "base_uri": "https://localhost:8080/",
          "height": 34
        },
        "outputId": "a5d3fd63-2c5b-4369-f334-12496489dec6"
      },
      "source": [
        "plt.savefig(\"train-val_loss.png\")"
      ],
      "execution_count": null,
      "outputs": [
        {
          "output_type": "display_data",
          "data": {
            "text/plain": [
              "<Figure size 432x288 with 0 Axes>"
            ]
          },
          "metadata": {
            "tags": []
          }
        }
      ]
    },
    {
      "cell_type": "code",
      "metadata": {
        "id": "aiQ48YF-aL-K"
      },
      "source": [
        "model_json = model.to_json()\n",
        "with open(\"model.json\",\"w\") as json_file:\n",
        "    json_file.write(model_json)"
      ],
      "execution_count": null,
      "outputs": []
    },
    {
      "cell_type": "code",
      "metadata": {
        "id": "XZumSpKcaL-K"
      },
      "source": [
        "model.save('LSTM_All.h5')"
      ],
      "execution_count": null,
      "outputs": []
    },
    {
      "cell_type": "code",
      "metadata": {
        "id": "qBkygjSAaL-K",
        "colab": {
          "base_uri": "https://localhost:8080/"
        },
        "outputId": "1f947b12-0db4-4a17-be17-ee886469f29c"
      },
      "source": [
        "# demonstrate prediction--test\n",
        "x_input = X_test_all\n",
        "print(x_input.shape)\n",
        "# reconstructed_model = keras.models.load_model('LSTM_All.h5')\n",
        "yhat_test = model.predict(x_input, verbose=0)\n",
        "savez_compressed('y_test_hat.npz',yhat_test)\n",
        "print(yhat_test.shape)\n",
        "\n",
        "# demonstrate prediction--val\n",
        "x_input = X_val_all\n",
        "print(x_input.shape)\n",
        "# reconstructed_model = keras.models.load_model('LSTM_All.h5')\n",
        "yhat_val = model.predict(x_input, verbose=0)\n",
        "savez_compressed('y_val_hat.npz',yhat_val)\n",
        "print(yhat_val.shape)\n",
        "\n",
        "# demonstrate prediction--train\n",
        "x_input = X_train_all\n",
        "print(x_input.shape)\n",
        "# reconstructed_model = keras.models.load_model('LSTM_All.h5')\n",
        "yhat_train = model.predict(x_input, verbose=0)\n",
        "savez_compressed('y_train_hat.npz',yhat_train)\n",
        "print(yhat_train.shape)"
      ],
      "execution_count": null,
      "outputs": [
        {
          "output_type": "stream",
          "text": [
            "(4780, 30, 11)\n",
            "(4780, 1, 10)\n",
            "(9325, 30, 11)\n",
            "(9325, 1, 10)\n",
            "(23655, 30, 11)\n",
            "(23655, 1, 10)\n"
          ],
          "name": "stdout"
        }
      ]
    }
  ]
}